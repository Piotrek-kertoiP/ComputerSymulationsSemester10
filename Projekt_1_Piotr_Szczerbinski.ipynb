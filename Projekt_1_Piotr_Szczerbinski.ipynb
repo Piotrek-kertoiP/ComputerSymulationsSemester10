{
 "cells": [
  {
   "cell_type": "markdown",
   "metadata": {},
   "source": [
    "# Projekt 1\n",
    "  \n",
    "W ramach zadania należy rozwiązać równanie przewodności cieplnej.  \n",
    "1. Ocena dst lub dst+: zadanie 1  \n",
    "2. Ocena db: zadanie 2  \n",
    "3. Ocena bdb: zadanie 3 "
   ]
  },
  {
   "cell_type": "markdown",
   "metadata": {},
   "source": [
    "## Jednowymiarowe zagadnienie przewodności cieplnej (heat equation)"
   ]
  },
  {
   "cell_type": "markdown",
   "metadata": {},
   "source": [
    "Równanie:\n",
    "$$\\frac{\\partial u}{\\partial t} = a^2\\frac{\\partial^2u}{\\partial x^2}$$\n",
    "  \n",
    "$0 < x < L, L = \\pi$  \n",
    "$t > 0$  \n",
    "$a = 0.2$  \n",
    "\n",
    "Warunek początkowy:  \n",
    "$f(x) = u(x, 0) = 4\\sin^3(2x)$  \n",
    "\n",
    "Zerowe warunki brzegowe:  \n",
    "$u(0, t) = u(\\pi, t) = 0$"
   ]
  },
  {
   "cell_type": "markdown",
   "metadata": {},
   "source": [
    "## Zadanie 1\n",
    "  \n",
    "Znaleźć rozwiązanie dla równania przewodności cieplnej za pomocą metody rozdzielenia zmiennych.  \n",
    "Na ocenę 3: rozwiązanie bez użycia **sympy**  \n",
    "Na ocenę 3.5: rozwiązanie z użyciem **sympy** (tj. znalezienie lub zweryfikowanie uzyskanych \"ręcznie\" rozwiązań dla równań na funkcję $X(x)$ oraz $T(t)$).  \n",
    "  \n",
    "Podpowiedź: Nalezy przyjąć stałą separacji $$\\lambda = -\\frac{X''(x)}{X(x)}$$.  \n",
    "Końcowe rozwiązanie, podobnie jak rozwiązanie dla równania struny, ma postać nieskończonej sumy rozwiązań zależnych od indeksu $n = 1, 2, 3, ...$."
   ]
  },
  {
   "cell_type": "markdown",
   "metadata": {},
   "source": [
    "Przedstawiamy $u(x,t) = X(x) * T(t)$\n",
    "\n",
    "Wówczas $du/dt = X(x) * T'(t)$\n",
    "\n",
    "oraz $a^2 * d^2u/dx^2 = a^2 * X''(x) * T(t)$\n",
    "\n",
    "Czyli:\n",
    "\n",
    "$X(x) * T'(t) = a^2 * X\"(x) * T(t)$\n",
    "\n",
    "dzielimy obustronnie przez $(X(x)*T(t))$\n",
    "\n",
    "$T'(t) / T(t) = a^2 * X\"(x) / X(x)$\n",
    "\n",
    "Teraz podstawiamy stałą separacji lambda i otrzymujemy dwa równania:\n",
    "1) $T'(t)/T(t) = -a^2 * lambda$\n",
    "\n",
    "1) $T'(t) + a^2 * lambda * T(t) = 0$\n",
    "\n",
    "2) $lambda = -X''(x) / X(x)$\n",
    "\n",
    "2) $X''(x) + lambda * X(x) = 0$"
   ]
  },
  {
   "cell_type": "code",
   "execution_count": 1,
   "metadata": {},
   "outputs": [],
   "source": [
    "import math\n",
    "import sympy\n",
    "from sympy import *"
   ]
  },
  {
   "cell_type": "code",
   "execution_count": 2,
   "metadata": {},
   "outputs": [],
   "source": [
    "a, L, x, lambada = symbols('a L x lambda')\n",
    "L = pi\n",
    "t = Symbol('t', positive=True)"
   ]
  },
  {
   "cell_type": "code",
   "execution_count": 3,
   "metadata": {},
   "outputs": [],
   "source": [
    "X = Function('X')\n",
    "T = Function('T')\n",
    "u = Function('u')"
   ]
  },
  {
   "cell_type": "code",
   "execution_count": 4,
   "metadata": {},
   "outputs": [],
   "source": [
    "a = 0.2"
   ]
  },
  {
   "cell_type": "code",
   "execution_count": 5,
   "metadata": {},
   "outputs": [
    {
     "data": {
      "text/latex": [
       "$\\displaystyle 0.04 \\lambda T{\\left(t \\right)} + \\frac{d}{d t} T{\\left(t \\right)} = 0$"
      ],
      "text/plain": [
       "Eq(0.04*lambda*T(t) + Derivative(T(t), t), 0)"
      ]
     },
     "execution_count": 5,
     "metadata": {},
     "output_type": "execute_result"
    }
   ],
   "source": [
    "equationT = Eq(T(t).diff(t) + pow(a, 2) * lambada * T(t), 0)\n",
    "equationT"
   ]
  },
  {
   "cell_type": "code",
   "execution_count": 6,
   "metadata": {},
   "outputs": [
    {
     "data": {
      "text/latex": [
       "$\\displaystyle \\lambda X{\\left(x \\right)} + \\frac{d^{2}}{d x^{2}} X{\\left(x \\right)} = 0$"
      ],
      "text/plain": [
       "Eq(lambda*X(x) + Derivative(X(x), (x, 2)), 0)"
      ]
     },
     "execution_count": 6,
     "metadata": {},
     "output_type": "execute_result"
    }
   ],
   "source": [
    "equationX = Eq(X(x).diff(x).diff(x) + lambada * X(x), 0)\n",
    "equationX"
   ]
  },
  {
   "cell_type": "code",
   "execution_count": 7,
   "metadata": {},
   "outputs": [
    {
     "data": {
      "text/latex": [
       "$\\displaystyle T{\\left(t \\right)} = C_{1} e^{- 0.04 \\lambda t}$"
      ],
      "text/plain": [
       "Eq(T(t), C1*exp(-0.04*lambda*t))"
      ]
     },
     "execution_count": 7,
     "metadata": {},
     "output_type": "execute_result"
    }
   ],
   "source": [
    "solutionT = dsolve(equationT, T(t))\n",
    "solutionT"
   ]
  },
  {
   "cell_type": "code",
   "execution_count": 8,
   "metadata": {},
   "outputs": [
    {
     "data": {
      "text/latex": [
       "$\\displaystyle X{\\left(x \\right)} = C_{1} e^{- x \\sqrt{- \\lambda}} + C_{2} e^{x \\sqrt{- \\lambda}}$"
      ],
      "text/plain": [
       "Eq(X(x), C1*exp(-x*sqrt(-lambda)) + C2*exp(x*sqrt(-lambda)))"
      ]
     },
     "execution_count": 8,
     "metadata": {},
     "output_type": "execute_result"
    }
   ],
   "source": [
    "solutionX = dsolve(equationX, X(x))\n",
    "solutionX"
   ]
  },
  {
   "cell_type": "markdown",
   "metadata": {},
   "source": [
    "Warunek brzegowy 1:\n",
    "\n",
    "$u(0, t) = 0$"
   ]
  },
  {
   "cell_type": "markdown",
   "metadata": {},
   "source": [
    "$u(0,t) = 0$\n",
    "\n",
    "$X(0) * T(t) = 0$\n",
    "\n",
    "$X(0) = 0$ lub $T(t) = 0$ (trywialny przypadek)"
   ]
  },
  {
   "cell_type": "code",
   "execution_count": 10,
   "metadata": {},
   "outputs": [
    {
     "data": {
      "text/latex": [
       "$\\displaystyle C_{1} + C_{2} = 0$"
      ],
      "text/plain": [
       "Eq(C1 + C2, 0)"
      ]
     },
     "execution_count": 10,
     "metadata": {},
     "output_type": "execute_result"
    }
   ],
   "source": [
    "boundary_condition_equation_1 = Eq(solutionX.rhs.subs(x, 0), 0)\n",
    "boundary_condition_equation_1"
   ]
  },
  {
   "cell_type": "code",
   "execution_count": 11,
   "metadata": {},
   "outputs": [
    {
     "data": {
      "text/plain": [
       "[{C1: -C2}]"
      ]
     },
     "execution_count": 11,
     "metadata": {},
     "output_type": "execute_result"
    }
   ],
   "source": [
    "boundary_condition_solution_1 = solve(boundary_condition_equation_1)\n",
    "boundary_condition_solution_1"
   ]
  },
  {
   "cell_type": "markdown",
   "metadata": {},
   "source": [
    "Teraz warunek brzegowy 2\n",
    "\n",
    "$u(pi, t) = 0$"
   ]
  },
  {
   "cell_type": "markdown",
   "metadata": {},
   "source": [
    "$u(pi,t) = 0$\n",
    "\n",
    "$X(pi) * T(t) = 0$\n",
    "\n",
    "$X(pi) = 0$ lub $T(t) = 0$ (trywialny przypadek)"
   ]
  },
  {
   "cell_type": "code",
   "execution_count": 12,
   "metadata": {},
   "outputs": [
    {
     "data": {
      "text/latex": [
       "$\\displaystyle C_{1} e^{- \\pi \\sqrt{- \\lambda}} + C_{2} e^{\\pi \\sqrt{- \\lambda}} = 0$"
      ],
      "text/plain": [
       "Eq(C1*exp(-pi*sqrt(-lambda)) + C2*exp(pi*sqrt(-lambda)), 0)"
      ]
     },
     "execution_count": 12,
     "metadata": {},
     "output_type": "execute_result"
    }
   ],
   "source": [
    "boundary_condition_equation_2 = Eq(solutionX.rhs.subs(x, pi), 0)\n",
    "boundary_condition_equation_2"
   ]
  },
  {
   "cell_type": "code",
   "execution_count": 13,
   "metadata": {},
   "outputs": [
    {
     "data": {
      "text/plain": [
       "[{C1: -C2*exp(2*pi*sqrt(-lambda))}]"
      ]
     },
     "execution_count": 13,
     "metadata": {},
     "output_type": "execute_result"
    }
   ],
   "source": [
    "boundary_condition_solution_2 = solve(boundary_condition_equation_2)\n",
    "boundary_condition_solution_2"
   ]
  },
  {
   "cell_type": "markdown",
   "metadata": {},
   "source": [
    "Łączymy te dwa rozwiązania w układ równań i mamy:"
   ]
  },
  {
   "cell_type": "code",
   "execution_count": 25,
   "metadata": {},
   "outputs": [
    {
     "data": {
      "text/plain": [
       "[Eq(C1, -C2), Eq(C1, -C2*exp(2*pi*sqrt(-lambda)))]"
      ]
     },
     "execution_count": 25,
     "metadata": {},
     "output_type": "execute_result"
    }
   ],
   "source": [
    "boundary_condition_solutions = boundary_condition_solution_1 + boundary_condition_solution_2\n",
    "\n",
    "boundary_condition_equations = list()\n",
    "\n",
    "for oneElDict in boundary_condition_solutions:\n",
    "    for key, value in oneElDict.items():\n",
    "        boundary_condition_equations.append(Eq(key, value))\n",
    "\n",
    "boundary_condition_equations"
   ]
  },
  {
   "cell_type": "markdown",
   "metadata": {},
   "source": [
    "Rozwiązujemy"
   ]
  },
  {
   "cell_type": "code",
   "execution_count": 26,
   "metadata": {},
   "outputs": [
    {
     "data": {
      "text/plain": [
       "[{C1: 0, C2: 0}, {C1: -C2, lambda: 0}, {C1: -C2, lambda: 1}]"
      ]
     },
     "execution_count": 26,
     "metadata": {},
     "output_type": "execute_result"
    }
   ],
   "source": [
    "solve(boundary_condition_equations)"
   ]
  },
  {
   "cell_type": "markdown",
   "metadata": {},
   "source": [
    "Przypadek z $C_1 = 0$ oraz $C_2 = 0$ oznacza, że $X(x) = 0$ czyli przypadek trywialny"
   ]
  },
  {
   "cell_type": "markdown",
   "metadata": {},
   "source": [
    "Na pewno możemy zastąpić $C_1 = -C_2$"
   ]
  },
  {
   "cell_type": "code",
   "execution_count": 43,
   "metadata": {},
   "outputs": [
    {
     "data": {
      "text/latex": [
       "$\\displaystyle X{\\left(x \\right)} = 2.71828182845905^{\\sqrt{\\lambda} x} C_{2} - 2.71828182845905^{- \\sqrt{\\lambda} x} C_{2}$"
      ],
      "text/plain": [
       "Eq(X(x), 2.71828182845905**(sqrt(lambda)*x)*C_2 - C_2/2.71828182845905**(sqrt(lambda)*x))"
      ]
     },
     "execution_count": 43,
     "metadata": {},
     "output_type": "execute_result"
    }
   ],
   "source": [
    "Eq(X(x), -C_2*pow(math.e, (-x*sqrt(lambada))) + C_2*pow(math.e, (x*sqrt(lambada))))"
   ]
  },
  {
   "cell_type": "markdown",
   "metadata": {},
   "source": [
    "$X(x) = C_2 * (H - 1/H)$\n",
    "\n",
    "gdzie\n",
    "\n",
    "$H = e ** (sqrt(lambda)*x)$"
   ]
  },
  {
   "cell_type": "markdown",
   "metadata": {},
   "source": [
    "Jeśli lambda = 0, to $H = e^0$ czyli $H = 1$ czyli $X(x) = 0$ (odrzucamy, bo trywialne)"
   ]
  },
  {
   "cell_type": "markdown",
   "metadata": {},
   "source": [
    "Jeśli lambda = 1, to $H = e^x$ lub $H = 1/e^x$\n",
    "\n",
    "czyli\n",
    "\n",
    "$X(x) = C_2 * (e^x - 1/e^x)$ lub $X(x) = C_2 * (1/e^x - e^x)$\n",
    "\n",
    "te dwa rozwiązania różnią się znakiem -"
   ]
  },
  {
   "cell_type": "markdown",
   "metadata": {},
   "source": [
    "Teraz warunek początkowy:\n",
    "\n",
    "$u(x, 0) = 4*sin^3(2x)$\n",
    "\n",
    "$X(x) * T(0) = 4*sin^3(2x)$"
   ]
  },
  {
   "cell_type": "code",
   "execution_count": 54,
   "metadata": {},
   "outputs": [],
   "source": [
    "e = Symbol('e')"
   ]
  },
  {
   "cell_type": "code",
   "execution_count": 52,
   "metadata": {},
   "outputs": [
    {
     "data": {
      "text/latex": [
       "$\\displaystyle C_{1} C_{2} \\left(e^{x} - e^{- x}\\right) = 4 \\sin^{3}{\\left(2 x \\right)}$"
      ],
      "text/plain": [
       "Eq(C1*C_2*(e**x - 1/e**x), 4*sin(2*x)**3)"
      ]
     },
     "execution_count": 52,
     "metadata": {},
     "output_type": "execute_result"
    }
   ],
   "source": [
    "#opcja 1\n",
    "Eq(C_2 * (pow(e, x) - pow(e, -x)) * solutionT.rhs.subs(t,0), 4*pow(sin(2*x), 3))"
   ]
  },
  {
   "cell_type": "code",
   "execution_count": 53,
   "metadata": {},
   "outputs": [
    {
     "data": {
      "text/latex": [
       "$\\displaystyle - C_{1} C_{2} \\left(e^{x} - e^{- x}\\right) = 4 \\sin^{3}{\\left(2 x \\right)}$"
      ],
      "text/plain": [
       "Eq(-C1*C_2*(e**x - 1/e**x), 4*sin(2*x)**3)"
      ]
     },
     "execution_count": 53,
     "metadata": {},
     "output_type": "execute_result"
    }
   ],
   "source": [
    "#opcja 2\n",
    "Eq(-C_2 * (pow(e, x) - pow(e, -x)) * solutionT.rhs.subs(t,0), 4*pow(sin(2*x), 3))"
   ]
  },
  {
   "cell_type": "markdown",
   "metadata": {},
   "source": [
    "I tu mam problem, bo nie ma takich stałych $C_1$ $C_2$ by to było spełnione"
   ]
  },
  {
   "cell_type": "code",
   "execution_count": 55,
   "metadata": {},
   "outputs": [
    {
     "data": {
      "text/latex": [
       "$\\displaystyle \\frac{4 \\sin^{3}{\\left(2 x \\right)}}{2.71828182845905^{x} - 2.71828182845905^{- x}}$"
      ],
      "text/plain": [
       "4*sin(2*x)**3/(2.71828182845905**x - 1/2.71828182845905**x)"
      ]
     },
     "execution_count": 55,
     "metadata": {},
     "output_type": "execute_result"
    }
   ],
   "source": [
    "f = Function('f')\n",
    "f = 4 * pow(sin(2*x), 3) / (pow(math.e, x) - pow(math.e, -x))\n",
    "f"
   ]
  },
  {
   "cell_type": "code",
   "execution_count": 76,
   "metadata": {},
   "outputs": [],
   "source": [
    "def eval_f(x_val):\n",
    "    return f.subs(x, x_val)"
   ]
  },
  {
   "cell_type": "code",
   "execution_count": 59,
   "metadata": {},
   "outputs": [],
   "source": [
    "import numpy as np\n",
    "import matplotlib.pyplot as plt"
   ]
  },
  {
   "cell_type": "code",
   "execution_count": 80,
   "metadata": {},
   "outputs": [
    {
     "data": {
      "image/png": "[encoded data removed]",
      "text/plain": [
       "<Figure size 432x288 with 1 Axes>"
      ]
     },
     "metadata": {
      "needs_background": "light"
     },
     "output_type": "display_data"
    }
   ],
   "source": [
    "import matplotlib.pyplot as plt\n",
    "\n",
    "fig, ax = plt.subplots()\n",
    "\n",
    "time_values = np.linspace(0, 4, 100)\n",
    "f_values = map(eval_f, time_values)\n",
    "\n",
    "ax.plot(time_values, list(f_values), '--')\n",
    "ax.set_ylim([0, 5])\n",
    "ax.grid(True)\n",
    "plt.show()"
   ]
  },
  {
   "cell_type": "markdown",
   "metadata": {},
   "source": [
    "Gdyby ta funkcja była stała, to byłoby ok, ale tak to wygląda jakby $C_1 * C_2$ miało być zmienne"
   ]
  },
  {
   "cell_type": "markdown",
   "metadata": {},
   "source": [
    "### Kolejne zadania można rozwiązać z użyciem dowolnej biblioteki pozwalających tworzyć wykresy i animacje (może, ale nie musi to być biblioteka matplotlib)."
   ]
  },
  {
   "cell_type": "code",
   "execution_count": null,
   "metadata": {},
   "outputs": [],
   "source": []
  },
  {
   "cell_type": "markdown",
   "metadata": {},
   "source": [
    "## Zadanie 2\n",
    "  \n",
    "Zaprogramować znalezione w zadaniu 1 rozwiązanie, tj. zaimplementować funkcję $u(x, t)$ i zilustrować rozwiązanie na wykresach.\n",
    "  \n",
    "Na ocenę 4: poprawna implementacja funkcji $u(x, t)$ oraz przedstawienie rozwiązania na kilku (3-5) wykresach:  \n",
    "Pierwszy wykres ma przedstawiać wykres funkcji $u(x, t)$ w momencie $t=0$, kolejne zaś funkcję $u(x, t)$ dla kolejnych momentów czasowych ($t>0$) dobranych tak, aby można było zaobserwować na kolejnych wykresach stopniowe wyrównywanie się temperatury."
   ]
  },
  {
   "cell_type": "code",
   "execution_count": null,
   "metadata": {},
   "outputs": [],
   "source": []
  },
  {
   "cell_type": "markdown",
   "metadata": {},
   "source": [
    "## Zadanie 3\n",
    "Zaprogramować animację, przedstawiającą przebieg rozkładu temperatury w czasie (wyrównywanie się temperatury)."
   ]
  },
  {
   "cell_type": "code",
   "execution_count": null,
   "metadata": {},
   "outputs": [],
   "source": []
  }
 ],
 "metadata": {
  "kernelspec": {
   "display_name": "Python 3 (ipykernel)",
   "language": "python",
   "name": "python3"
  },
  "language_info": {
   "codemirror_mode": {
    "name": "ipython",
    "version": 3
   },
   "file_extension": ".py",
   "mimetype": "text/x-python",
   "name": "python",
   "nbconvert_exporter": "python",
   "pygments_lexer": "ipython3",
   "version": "3.8.9"
  }
 },
 "nbformat": 4,
 "nbformat_minor": 4
}
